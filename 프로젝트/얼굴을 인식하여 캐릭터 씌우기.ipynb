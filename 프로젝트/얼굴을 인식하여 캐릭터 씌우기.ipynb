{
 "cells": [
  {
   "cell_type": "markdown",
   "metadata": {},
   "source": [
    "# 프로젝트 : 얼굴을 인식하여 캐릭터 씌우기"
   ]
  },
  {
   "cell_type": "markdown",
   "metadata": {},
   "source": [
    "## Face Detection(얼굴이라는 것을 발견) vs Face Recognition(얼굴을 통해서 누구의 얼굴인지 파악)"
   ]
  },
  {
   "cell_type": "code",
   "execution_count": 4,
   "metadata": {},
   "outputs": [],
   "source": [
    "import mediapipe as mp\n",
    "import cv2\n",
    "\n",
    "# 얼굴을 찾고, 찾은 얼굴에 표시를 해주기 위한 변수 정의\n",
    "mp_face_detection = mp.solutions.face_detection # 얼굴 검출을 위한 face_detection 모듈을 사용\n",
    "mp_drawing = mp.solutions.drawing_utils # 얼굴의 특징을 그리기 위한 drawing_utils 모듈을 사용\n",
    "\n",
    "# 동영상 파일 열기\n",
    "cap = cv2.VideoCapture('face_video.mp4')\n",
    "\n",
    "# model_selection: 0(가까운 거리), 1(5미터 이내의 먼 거리), min_detection_confidence: 얼굴인지 아닌지 임계치에 대한 확률\n",
    "with mp_face_detection.FaceDetection(model_selection=0, min_detection_confidence=0.5) as face_detection:\n",
    "    while cap.isOpened():\n",
    "        success, image = cap.read()\n",
    "        if not success:\n",
    "            break\n",
    "\n",
    "        image.flags.writeable = False\n",
    "        image = cv2.cvtColor(image, cv2.COLOR_BGR2RGB)\n",
    "        results = face_detection.process(image)\n",
    "\n",
    "        image.flags.writeable = True\n",
    "        image = cv2.cvtColor(image, cv2.COLOR_RGB2BGR)\n",
    "        if results.detections:\n",
    "            # 6개 특징: 오른쪽 눈, 왼쪽 눈, 코 끝부분, 입 중심, 오른쪽 귀, 왼쪽 귀\n",
    "            for detection in results.detections:\n",
    "                mp_drawing.draw_detection(image, detection)\n",
    "\n",
    "                # 특정 위치 가져오기\n",
    "                keypoints = detection.location_data.relative_keypoints\n",
    "                right_eye = keypoints[0]\n",
    "                left_eye = keypoints[1]\n",
    "                nose = keypoints[2]\n",
    "                mouth = keypoints[3]\n",
    "                right_ear = keypoints[4]\n",
    "                left_ear = keypoints[5]\n",
    "\n",
    "                h, w, _ = image.shape   # height, width, channel\n",
    "                right_eye = (int(right_eye.x * w), int(right_eye.y * h))\n",
    "                left_eye = (int(left_eye.x * w), int(left_eye.y * h))\n",
    "                nose = (int(nose.x * w), int(nose.y * h))\n",
    "                \n",
    "                # 양 눈에 동그라미 그리기\n",
    "                cv2.circle(image, right_eye, 50, (255, 0, 0), cv2.LINE_AA)\n",
    "                cv2.circle(image, left_eye, 50, (255, 0, 0), cv2.LINE_AA)\n",
    "                cv2.circle(image, nose, 50, (255, 0, 0), cv2.LINE_AA)\n",
    "\n",
    "        cv2.imshow('MediaPipe Face Detection', cv2.resize(image, None, fx=0.5, fy=0.5))\n",
    "\n",
    "        if cv2.waitKey(1) == ord('q'):\n",
    "            break\n",
    "\n",
    "cap.release()\n",
    "cv2.destroyAllWindows()"
   ]
  }
 ],
 "metadata": {
  "kernelspec": {
   "display_name": "Python 3",
   "language": "python",
   "name": "python3"
  },
  "language_info": {
   "codemirror_mode": {
    "name": "ipython",
    "version": 3
   },
   "file_extension": ".py",
   "mimetype": "text/x-python",
   "name": "python",
   "nbconvert_exporter": "python",
   "pygments_lexer": "ipython3",
   "version": "3.11.6"
  }
 },
 "nbformat": 4,
 "nbformat_minor": 2
}
